{
 "cells": [
  {
   "cell_type": "code",
   "execution_count": 2,
   "metadata": {},
   "outputs": [],
   "source": [
    "import sys,re,os\n",
    "import pandas as pd\n",
    "from ete4 import Tree"
   ]
  },
  {
   "cell_type": "code",
   "execution_count": 5,
   "metadata": {},
   "outputs": [],
   "source": [
    "t=Tree(open('bin_ca_tetra_r220_archaea/gtdbtk.infer_RED_ranks.tree'),parser=1)"
   ]
  },
  {
   "cell_type": "code",
   "execution_count": null,
   "metadata": {},
   "outputs": [],
   "source": [
    "print(t)"
   ]
  },
  {
   "cell_type": "code",
   "execution_count": 3,
   "metadata": {},
   "outputs": [],
   "source": [
    "matches=[]\n",
    "def find_mono(node,matches):\n",
    "    children=node.get_children()\n",
    "    if len(children)==2:\n",
    "        a=list(map(lambda x: re.match('^FDZ', x),node.leaf_names()))\n",
    "        b=list(filter(lambda x: x is not None, a))\n",
    "        if len(a)==len(b) and len(a)>0: \n",
    "            matches.append(node)\n",
    "        elif children[0].is_leaf and not children[1].is_leaf and re.match('^FDZ',children[0].name) is not None:\n",
    "            matches.append(children[0])\n",
    "            find_mono(children[1],matches)\n",
    "        elif children[1].is_leaf and not children[0].is_leaf and re.match('^FDZ',children[1].name) is not None:\n",
    "            matches.append(children[1])\n",
    "            find_mono(children[0],matches)\n",
    "        else:\n",
    "            find_mono(children[0],matches)\n",
    "            find_mono(children[1],matches)\n",
    "    "
   ]
  },
  {
   "cell_type": "code",
   "execution_count": 6,
   "metadata": {},
   "outputs": [],
   "source": [
    "find_mono(t,matches)"
   ]
  },
  {
   "cell_type": "code",
   "execution_count": 7,
   "metadata": {},
   "outputs": [
    {
     "data": {
      "text/plain": [
       "173"
      ]
     },
     "execution_count": 7,
     "metadata": {},
     "output_type": "execute_result"
    }
   ],
   "source": [
    "len(matches)"
   ]
  },
  {
   "cell_type": "code",
   "execution_count": 28,
   "metadata": {},
   "outputs": [
    {
     "data": {
      "text/plain": [
       "'1.0|RED=0.895|genus'"
      ]
     },
     "execution_count": 28,
     "metadata": {},
     "output_type": "execute_result"
    }
   ],
   "source": [
    "list(matches[1].ancestors(include_root=False))[0].name"
   ]
  },
  {
   "cell_type": "code",
   "execution_count": 15,
   "metadata": {},
   "outputs": [
    {
     "data": {
      "text/plain": [
       "[<Tree '1.0|RED=0.951|genus' at 0x7fe886e363b>]"
      ]
     },
     "execution_count": 15,
     "metadata": {},
     "output_type": "execute_result"
    }
   ],
   "source": [
    "matches[3].get_sisters()"
   ]
  },
  {
   "cell_type": "code",
   "execution_count": 112,
   "metadata": {},
   "outputs": [],
   "source": [
    "def inferred_rank(node):\n",
    "    rank=[\"phylum\",\"class\",\"order\",\"family\",\"genus\"]\n",
    "    if node.is_leaf:\n",
    "        p=rank.index(re.sub(r\"&.*\",\"\",list(node.ancestors(include_root=False))[0].name.split(\"|\")[2]))\n",
    "        return rank[p]\n",
    "    n=rank.index(re.sub(r\"&.*\",\"\",node.name.split(\"|\")[2]))\n",
    "    p=rank.index(re.sub(r\"&.*\",\"\",list(node.ancestors(include_root=False))[0].name.split(\"|\")[2]))\n",
    "    if n==p or n==p+1: #if node's rank is equal to parent's rank or below \n",
    "        return rank[n]\n",
    "    elif n>p+1:\n",
    "        return rank[p+1]\n",
    "\n",
    "def pull_mono_node_info(node):\n",
    "    if node.is_leaf:\n",
    "        # Leaf RED is set to 1, which may not be able to represent the monophylegetic branch\n",
    "        # Use parent's RED and rank to represent leaf\n",
    "        parent=list(node.ancestors(include_root=False))[0]\n",
    "        rank=inferred_rank(node)\n",
    "        node_name=parent.name.split('|')\n",
    "        RED=re.search(r'RED=([\\d\\.]+)',node_name[1]).group(1)\n",
    "        all_leaf=node.name\n",
    "    else:\n",
    "        all_leaf=\",\".join(list(node.leaf_names()))\n",
    "        node_name=node.name.split('|')\n",
    "        RED=re.search(r'RED=([\\d\\.]+)',node_name[1]).group(1)\n",
    "        rank=inferred_rank(node)\n",
    "    return pd.DataFrame({all_leaf:{'RED':RED,'rank':rank}})"
   ]
  },
  {
   "cell_type": "code",
   "execution_count": 9,
   "metadata": {},
   "outputs": [],
   "source": [
    "arc_red=pd.concat(list(map(pull_mono_node_info,matches)),axis=1).T"
   ]
  },
  {
   "cell_type": "code",
   "execution_count": 88,
   "metadata": {},
   "outputs": [],
   "source": [
    "arc_red.reset_index(names=\"Leaf_Names\").to_csv('MEERv21_d95_gtdbr220_ar53_monophylogetic_RED.tsv',sep=\"\\t\",index=None)"
   ]
  },
  {
   "cell_type": "code",
   "execution_count": 75,
   "metadata": {},
   "outputs": [
    {
     "data": {
      "text/plain": [
       "[<re.Match object; span=(46, 70), match='FDZ070-GBeBe8-10.bin.193'>]"
      ]
     },
     "execution_count": 75,
     "metadata": {},
     "output_type": "execute_result"
    }
   ],
   "source": [
    "list(filter(lambda x: x is not None, map(lambda x: re.search('FDZ070-GBeBe8-10.bin.193',x),arc_red.index.to_list())))"
   ]
  },
  {
   "cell_type": "code",
   "execution_count": 10,
   "metadata": {},
   "outputs": [],
   "source": [
    "arc_sgbt=Tree(open('bin_ca_tetra_user_arctree_r220/gtdbtk.decorated.tree'),parser=1)"
   ]
  },
  {
   "cell_type": "code",
   "execution_count": 29,
   "metadata": {},
   "outputs": [
    {
     "data": {
      "text/plain": [
       "True"
      ]
     },
     "execution_count": 29,
     "metadata": {},
     "output_type": "execute_result"
    }
   ],
   "source": [
    "'FDZ061-WW30-32.bin.394' in list(arc_sgbt.leaf_names())"
   ]
  },
  {
   "cell_type": "code",
   "execution_count": 70,
   "metadata": {},
   "outputs": [
    {
     "name": "stdout",
     "output_type": "stream",
     "text": [
      "[<Tree 'FDZ070-GBkY10-12.bin.165' at 0x7f2928c1451>]\n",
      "[<Tree 'FDZ058-Be2-4.bin.360' at 0x7f2928bda50>]\n",
      "[<Tree 'FDZ077-WuWW8-10.bin.175' at 0x7f2928bc8eb>, <Tree 'FDZ061-WW20-22.bin.69' at 0x7f2928bc8e4>, <Tree 'FDZ070-GBkY0-2.bin.307' at 0x7f2928bc8dd>]\n",
      "[<Tree 'FDZ076-WRG2-4.bin.98' at 0x7f2928bcb53>, <Tree 'FDZ041-Be15-20.bin.806' at 0x7f2928bcb4c>]\n",
      "[<Tree 'FDZ076-RGWu26-28.bin.341' at 0x7f2928bc835>]\n",
      "[<Tree 'FDZ076-WWWu2-4.bin.343' at 0x7f2928bde81>, <Tree 'FDZ072-WRR4-6.bin.477' at 0x7f2928bdee3>, <Tree 'FDZ070-GBkYWu.bin.232' at 0x7f2928bdea4>, <Tree 'FDZ070-GBeBe8-10.bin.193' at 0x7f2928bde88>, <Tree 'FDZ071-RRG16-18.bin.388' at 0x7f2928bdeab>, <Tree 'FDZ081-YWG26-28.bin.99' at 0x7f2928bde6c>, <Tree 'FDZ060-GBkWNs.bin.684' at 0x7f2928bdeb2>, <Tree 'FDZ074-WuYW10-12.bin.5' at 0x7f2928bde73>, <Tree 'FDZ050-RBk28-30.bin.295' at 0x7f2928bded5>, <Tree 'FDZ062-GYBe10-12.bin.4' at 0x7f2928bde57>, <Tree 'FDZ066-ww10-12.bin.124' at 0x7f2928bde7a>, <Tree 'FDZ061-WW8-10.bin.53' at 0x7f2928bdedc>, <Tree 'FDZ070-GBkY12-14.bin.435' at 0x7f2928bde5e>]\n",
      "[<Tree 'FDZ077-WuYW10-12.bin.330' at 0x7f2928c33d8>, <Tree 'FDZ070-RYBk14-16.bin.259' at 0x7f2928c33c3>, <Tree 'FDZ070-GBeBe12-14.bin.337' at 0x7f2928c33bc>, <Tree 'FDZ076-WWWu2-4.bin.420' at 0x7f2928c33df>]\n"
     ]
    }
   ],
   "source": [
    "tmp=[]\n",
    "\n",
    "for node in matches:\n",
    "    if node.is_leaf:\n",
    "        #print(node.name)\n",
    "        sgbt_node=arc_sgbt[node.name]\n",
    "        #print(sgbt_node)\n",
    "        tmp.append(sgbt_node)\n",
    "    else:\n",
    "        name_group=list(node.leaf_names())\n",
    "        sgbt_node=arc_sgbt.common_ancestor(name_group)\n",
    "        if len(sgbt_node)==len(node):\n",
    "            tmp.append(sgbt_node)\n",
    "        elif len(sgbt_node)>len(node):\n",
    "            #tmp2.append(node)\n",
    "            sgbt_node=arc_sgbt.common_ancestor(name_group)\n",
    "            sgbt_o=list(map(lambda x: arc_sgbt[x], name_group))\n",
    "            sgbt_e=list(sgbt_node.leaves())\n",
    "            looking=list(set(sgbt_e).difference(set(sgbt_o)))\n",
    "            print(looking)\n",
    "            for i in looking:\n",
    "                parent=list(i.ancestors())[0]\n",
    "                if i.is_leaf:\n",
    "                    if t[i.name] in matches:\n",
    "                        #print(i.name)\n",
    "                        if arc_sgbt[i.name] not in tmp:\n",
    "                            tmp.append(arc_sgbt[i.name])\n",
    "                        continue\n",
    "                    elif not arc_red[arc_red.index.to_series().str.contains(i.name)].empty:\n",
    "                        if parent is not sgbt_node and parent not in looking: looking.append(parent)\n",
    "                        continue\n",
    "                #print(i)\n",
    "                sis=list(i.get_sisters())[0]\n",
    "                #print(sis)\n",
    "                if sis.is_leaf and sis.name in name_group:\n",
    "                    tmp.append(sis)\n",
    "                elif not sis.is_leaf:\n",
    "                    if all(list(map(lambda x: x in name_group,list(sis.leaf_names())))):\n",
    "                        #print(sis)\n",
    "                        tmp.append(sis)\n",
    "                \n",
    "                if parent is not sgbt_node and parent not in looking: looking.append(parent)\n"
   ]
  },
  {
   "cell_type": "code",
   "execution_count": 86,
   "metadata": {},
   "outputs": [],
   "source": [
    "pd.Series(list(map(lambda x: x.name if x.is_leaf else \",\".join(list(x.leaf_names())),tmp))).to_csv(\"MEERv21_ar53_monophylogetic.list\",header=None,index=None,sep=\"\\t\")"
   ]
  },
  {
   "cell_type": "markdown",
   "metadata": {},
   "source": [
    "## Testing Code"
   ]
  },
  {
   "cell_type": "code",
   "execution_count": null,
   "metadata": {},
   "outputs": [],
   "source": [
    "tmp=[]\n",
    "tmp2=[]\n",
    "for node in matches:\n",
    "    if node.is_leaf:\n",
    "        #print(node.name)\n",
    "        sgbt_node=arc_sgbt[node.name]\n",
    "        #print(sgbt_node)\n",
    "        tmp.append(sgbt_node)\n",
    "    else:\n",
    "        name_group=list(node.leaf_names())\n",
    "        sgbt_node=arc_sgbt.common_ancestor(name_group)\n",
    "        if len(sgbt_node)==len(node):\n",
    "            tmp.append(sgbt_node)\n",
    "        elif len(sgbt_node)>len(node):\n",
    "            tmp2.append(node)"
   ]
  },
  {
   "cell_type": "code",
   "execution_count": 77,
   "metadata": {},
   "outputs": [
    {
     "data": {
      "text/plain": [
       "184"
      ]
     },
     "execution_count": 77,
     "metadata": {},
     "output_type": "execute_result"
    }
   ],
   "source": [
    "len(tmp)"
   ]
  },
  {
   "cell_type": "code",
   "execution_count": 14,
   "metadata": {},
   "outputs": [
    {
     "data": {
      "text/plain": [
       "7"
      ]
     },
     "execution_count": 14,
     "metadata": {},
     "output_type": "execute_result"
    }
   ],
   "source": [
    "len(tmp2)"
   ]
  },
  {
   "cell_type": "code",
   "execution_count": 15,
   "metadata": {},
   "outputs": [
    {
     "data": {
      "text/plain": [
       "173"
      ]
     },
     "execution_count": 15,
     "metadata": {},
     "output_type": "execute_result"
    }
   ],
   "source": [
    "len(matches)"
   ]
  },
  {
   "cell_type": "code",
   "execution_count": 72,
   "metadata": {},
   "outputs": [
    {
     "name": "stdout",
     "output_type": "stream",
     "text": [
      "[<Tree 'FDZ077-WuYW10-12.bin.330' at 0x7f2928c33d8>, <Tree 'FDZ070-RYBk14-16.bin.259' at 0x7f2928c33c3>, <Tree 'FDZ070-GBeBe12-14.bin.337' at 0x7f2928c33bc>, <Tree 'FDZ076-WWWu2-4.bin.420' at 0x7f2928c33df>]\n"
     ]
    }
   ],
   "source": [
    "tmp3=[]\n",
    "c=0\n",
    "node=tmp2[6]\n",
    "name_group=list(node.leaf_names())\n",
    "\n",
    "sgbt_node=arc_sgbt.common_ancestor(name_group)\n",
    "sgbt_o=list(map(lambda x: arc_sgbt[x], name_group))\n",
    "sgbt_e=list(sgbt_node.leaves())\n",
    "looking=list(set(sgbt_e).difference(set(sgbt_o)))\n",
    "print(looking)\n",
    "for i in looking:\n",
    "    parent=list(i.ancestors())[0]\n",
    "    if i.is_leaf:\n",
    "        if t[i.name] in matches:\n",
    "            #print(i.name)\n",
    "            if arc_sgbt[i.name] not in tmp:\n",
    "                tmp3.append(arc_sgbt[i.name])\n",
    "            continue\n",
    "        elif not arc_red[arc_red.index.to_series().str.contains(i.name)].empty:\n",
    "            if parent is not sgbt_node and parent not in looking: looking.append(parent)\n",
    "            continue\n",
    "    #print(i)\n",
    "    sis=list(i.get_sisters())[0]\n",
    "    #print(sis)\n",
    "    if sis.is_leaf and sis.name in name_group:\n",
    "        tmp3.append(sis)\n",
    "    elif not sis.is_leaf:\n",
    "        if all(list(map(lambda x: x in name_group,list(sis.leaf_names())))):\n",
    "            #print(sis)\n",
    "            tmp3.append(sis)\n",
    "    c+=1\n",
    "    if parent is not sgbt_node and parent not in looking: looking.append(parent)"
   ]
  },
  {
   "cell_type": "code",
   "execution_count": 73,
   "metadata": {},
   "outputs": [
    {
     "name": "stdout",
     "output_type": "stream",
     "text": [
      "─┬╴FDZ046-RBk0-5.bin.47\n",
      " ╰╴FDZ062-WuWR4-6.bin.144\n",
      "2\n"
     ]
    }
   ],
   "source": [
    "print(node)\n",
    "print(len(node))"
   ]
  },
  {
   "cell_type": "code",
   "execution_count": 74,
   "metadata": {},
   "outputs": [
    {
     "name": "stdout",
     "output_type": "stream",
     "text": [
      " ╭╴FDZ062-WuWR4-6.bin.144\n",
      "─┤ ╭─┬╴FDZ070-GBeBe12-14.bin.337\n",
      " ╰─┤ ╰╴FDZ070-RYBk14-16.bin.259\n",
      "   ╰─┬╴FDZ046-RBk0-5.bin.47\n",
      "     ╰─┬╴FDZ077-WuYW10-12.bin.330\n",
      "       ╰╴FDZ076-WWWu2-4.bin.420\n"
     ]
    }
   ],
   "source": [
    "print(sgbt_node)"
   ]
  },
  {
   "cell_type": "code",
   "execution_count": 57,
   "metadata": {},
   "outputs": [
    {
     "name": "stdout",
     "output_type": "stream",
     "text": [
      "3\n"
     ]
    }
   ],
   "source": [
    "print(c)"
   ]
  },
  {
   "cell_type": "code",
   "execution_count": 88,
   "metadata": {},
   "outputs": [
    {
     "data": {
      "text/html": [
       "<div>\n",
       "<style scoped>\n",
       "    .dataframe tbody tr th:only-of-type {\n",
       "        vertical-align: middle;\n",
       "    }\n",
       "\n",
       "    .dataframe tbody tr th {\n",
       "        vertical-align: top;\n",
       "    }\n",
       "\n",
       "    .dataframe thead th {\n",
       "        text-align: right;\n",
       "    }\n",
       "</style>\n",
       "<table border=\"1\" class=\"dataframe\">\n",
       "  <thead>\n",
       "    <tr style=\"text-align: right;\">\n",
       "      <th></th>\n",
       "      <th>RED</th>\n",
       "      <th>rank</th>\n",
       "    </tr>\n",
       "  </thead>\n",
       "  <tbody>\n",
       "    <tr>\n",
       "      <th>FDZ041-Be15-20.bin.806,FDZ076-WRG2-4.bin.98</th>\n",
       "      <td>0.856</td>\n",
       "      <td>genus</td>\n",
       "    </tr>\n",
       "  </tbody>\n",
       "</table>\n",
       "</div>"
      ],
      "text/plain": [
       "                                               RED   rank\n",
       "FDZ041-Be15-20.bin.806,FDZ076-WRG2-4.bin.98  0.856  genus"
      ]
     },
     "execution_count": 88,
     "metadata": {},
     "output_type": "execute_result"
    }
   ],
   "source": [
    "arc_red[arc_red.index.to_series().str.contains('FDZ076-WRG2-4.bin.98')]"
   ]
  },
  {
   "cell_type": "code",
   "execution_count": 42,
   "metadata": {},
   "outputs": [
    {
     "data": {
      "text/plain": [
       "False"
      ]
     },
     "execution_count": 42,
     "metadata": {},
     "output_type": "execute_result"
    }
   ],
   "source": [
    "arc_sgbt['FDZ070-GBkY10-12.bin.165'] in tmp"
   ]
  },
  {
   "cell_type": "code",
   "execution_count": 75,
   "metadata": {},
   "outputs": [
    {
     "data": {
      "text/plain": [
       "[<Tree 'FDZ046-RBk0-5.bin.47' at 0x7f2928c33d1>,\n",
       " <Tree 'FDZ062-WuWR4-6.bin.144' at 0x7f2928c33b5>]"
      ]
     },
     "execution_count": 75,
     "metadata": {},
     "output_type": "execute_result"
    }
   ],
   "source": [
    "tmp3"
   ]
  },
  {
   "cell_type": "code",
   "execution_count": 69,
   "metadata": {},
   "outputs": [
    {
     "name": "stdout",
     "output_type": "stream",
     "text": [
      "   ╭╴FDZ070-WuRG4-6.bin.199\n",
      " ╭─┤ ╭─┬╴FDZ058-Be16-18.bin.660\n",
      " │ ╰─┤ ╰╴FDZ070-RYBk22-24.bin.418\n",
      "─┤   ╰─┬╴FDZ070-RYBk18-20.bin.64\n",
      " │     ╰─┬╴FDZ062-RRR0-2.bin.159\n",
      " │       ╰╴FDZ063-WW2-4.bin.39\n",
      " ╰─┬╴FDZ064-BaGW12-14.bin.73\n",
      "   ╰─┬╴FDZ071-BuBu12-14.bin.75\n",
      "     ╰─┬╴FDZ066-BawG2-4.bin.39\n",
      "       ╰╴FDZ070-GBkY2-4.bin.348\n",
      "10\n",
      " ╭─┬╴FDZ070-RYBk22-24.bin.418\n",
      " │ ╰─┬╴FDZ070-WuRG4-6.bin.199\n",
      " │   ╰─┬╴FDZ058-Be16-18.bin.660\n",
      "─┤     ╰─┬╴FDZ070-RYBk18-20.bin.64\n",
      " │       ╰─┬╴FDZ062-RRR0-2.bin.159\n",
      " │         ╰╴FDZ063-WW2-4.bin.39\n",
      " ╰─┬╴FDZ064-BaGW12-14.bin.73\n",
      "   ╰─┬╴FDZ071-BuBu12-14.bin.75\n",
      "     ╰─┬╴FDZ066-BawG2-4.bin.39\n",
      "       ╰╴FDZ070-GBkY2-4.bin.348\n"
     ]
    }
   ],
   "source": [
    "print(tmp3[0])\n",
    "print(len(tmp3[0]))\n",
    "print(t.common_ancestor(list(tmp3[0].leaf_names())))"
   ]
  },
  {
   "cell_type": "markdown",
   "metadata": {},
   "source": [
    "## Bacteria RED Tree"
   ]
  },
  {
   "cell_type": "code",
   "execution_count": 91,
   "metadata": {},
   "outputs": [],
   "source": [
    "bact=Tree(open(\"bin_ca_tetra_r220_bacteria/gtdbtk.infer_RED_rankstree\"),parser=1)"
   ]
  },
  {
   "cell_type": "code",
   "execution_count": 92,
   "metadata": {},
   "outputs": [],
   "source": [
    "bac_matches=[]\n",
    "find_mono(bact,bac_matches)"
   ]
  },
  {
   "cell_type": "code",
   "execution_count": 93,
   "metadata": {},
   "outputs": [],
   "source": [
    "bac_RED=pd.concat(list(map(pull_mono_node_info,bac_matches)),axis=1).T"
   ]
  },
  {
   "cell_type": "code",
   "execution_count": 94,
   "metadata": {},
   "outputs": [],
   "source": [
    "bac_RED.reset_index(names=\"Leaf_Names\").to_csv(\"MEERv21_d95_gtdbr220_bac120_monophylogetic_RED.tsv\",sep=\"\\t\",index=None)"
   ]
  },
  {
   "cell_type": "code",
   "execution_count": 95,
   "metadata": {},
   "outputs": [],
   "source": [
    "bac_sgbt=Tree(open(\"bin_ca_tetra_user_bactree_r220/gtdbtk.decorated.tree\",'rt'),parser=1)"
   ]
  },
  {
   "cell_type": "code",
   "execution_count": null,
   "metadata": {},
   "outputs": [],
   "source": [
    "tmp=[]\n",
    "\n",
    "for node in bac_matches:\n",
    "    if node.is_leaf:\n",
    "        #print(node.name)\n",
    "        sgbt_node=bac_sgbt[node.name]\n",
    "        #print(sgbt_node)\n",
    "        tmp.append(sgbt_node)\n",
    "    else:\n",
    "        name_group=list(node.leaf_names())\n",
    "        sgbt_node=bac_sgbt.common_ancestor(name_group)\n",
    "        if len(sgbt_node)==len(node):\n",
    "            tmp.append(sgbt_node)\n",
    "        elif len(sgbt_node)>len(node):\n",
    "            #tmp2.append(node)\n",
    "            sgbt_node=bac_sgbt.common_ancestor(name_group)\n",
    "            sgbt_o=list(map(lambda x: bac_sgbt[x], name_group))\n",
    "            sgbt_e=list(sgbt_node.leaves())\n",
    "            looking=list(set(sgbt_e).difference(set(sgbt_o)))\n",
    "            #print(looking)\n",
    "            for i in looking:\n",
    "                parent=list(i.ancestors())[0]\n",
    "                if i.is_leaf:\n",
    "                    if bact[i.name] in bac_matches:\n",
    "                        #print(i.name)\n",
    "                        if bac_sgbt[i.name] not in tmp:\n",
    "                            tmp.append(bac_sgbt[i.name])\n",
    "                        continue\n",
    "                    elif not bac_RED[bac_RED.index.to_series().str.contains(i.name)].empty:\n",
    "                        if parent is not sgbt_node and parent not in looking: looking.append(parent)\n",
    "                        continue\n",
    "                #print(i)\n",
    "                sis=list(i.get_sisters())[0]\n",
    "                #print(sis)\n",
    "                if sis.is_leaf and sis.name in name_group:\n",
    "                    tmp.append(sis)\n",
    "                elif not sis.is_leaf:\n",
    "                    if all(list(map(lambda x: x in name_group,list(sis.leaf_names())))):\n",
    "                        #print(sis)\n",
    "                        tmp.append(sis)\n",
    "                \n",
    "                if parent is not sgbt_node and parent not in looking: looking.append(parent)\n"
   ]
  },
  {
   "cell_type": "code",
   "execution_count": 98,
   "metadata": {},
   "outputs": [
    {
     "data": {
      "text/plain": [
       "2188"
      ]
     },
     "execution_count": 98,
     "metadata": {},
     "output_type": "execute_result"
    }
   ],
   "source": [
    "len(tmp)"
   ]
  },
  {
   "cell_type": "code",
   "execution_count": 103,
   "metadata": {},
   "outputs": [
    {
     "data": {
      "text/plain": [
       "bool\n",
       "False     887\n",
       "True     1048\n",
       "dtype: int64"
      ]
     },
     "execution_count": 103,
     "metadata": {},
     "output_type": "execute_result"
    }
   ],
   "source": [
    "bac_RED.index.to_series().str.contains(\",\").to_frame(name=\"bool\").groupby('bool').size()"
   ]
  },
  {
   "cell_type": "code",
   "execution_count": 106,
   "metadata": {},
   "outputs": [
    {
     "data": {
      "text/plain": [
       "bool\n",
       "False     72\n",
       "True     101\n",
       "dtype: int64"
      ]
     },
     "execution_count": 106,
     "metadata": {},
     "output_type": "execute_result"
    }
   ],
   "source": [
    "arc_red.index.to_series().str.contains(\",\").to_frame(name=\"bool\").groupby('bool').size()"
   ]
  },
  {
   "cell_type": "code",
   "execution_count": 104,
   "metadata": {},
   "outputs": [
    {
     "data": {
      "text/plain": [
       "(1935, 2)"
      ]
     },
     "execution_count": 104,
     "metadata": {},
     "output_type": "execute_result"
    }
   ],
   "source": [
    "bac_RED.shape"
   ]
  },
  {
   "cell_type": "code",
   "execution_count": 105,
   "metadata": {},
   "outputs": [
    {
     "data": {
      "text/plain": [
       "(173, 2)"
      ]
     },
     "execution_count": 105,
     "metadata": {},
     "output_type": "execute_result"
    }
   ],
   "source": [
    "arc_red.shape"
   ]
  },
  {
   "cell_type": "code",
   "execution_count": 99,
   "metadata": {},
   "outputs": [],
   "source": [
    "pd.Series(list(map(lambda x: x.name if x.is_leaf else \",\".join(list(x.leaf_names())),tmp))).to_csv(\"./MEERv21_bac120_monophylogetic.list\",header=None,index=None,sep=\"\\t\")"
   ]
  }
 ],
 "metadata": {
  "kernelspec": {
   "display_name": "Python 3.10.14",
   "language": "python",
   "name": "python3"
  },
  "language_info": {
   "codemirror_mode": {
    "name": "ipython",
    "version": 3
   },
   "file_extension": ".py",
   "mimetype": "text/x-python",
   "name": "python",
   "nbconvert_exporter": "python",
   "pygments_lexer": "ipython3",
   "version": "3.10.14"
  },
  "orig_nbformat": 4,
  "vscode": {
   "interpreter": {
    "hash": "0e1a0531485edac3256eef4347121797f86729cc2b37663245a8889dc2d83d98"
   }
  }
 },
 "nbformat": 4,
 "nbformat_minor": 2
}
